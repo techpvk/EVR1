{
  "nbformat": 4,
  "nbformat_minor": 0,
  "metadata": {
    "colab": {
      "provenance": [],
      "include_colab_link": true
    },
    "kernelspec": {
      "name": "python3",
      "display_name": "Python 3"
    },
    "accelerator": "GPU"
  },
  "cells": [
    {
      "cell_type": "markdown",
      "metadata": {
        "id": "view-in-github",
        "colab_type": "text"
      },
      "source": [
        "<a href=\"https://colab.research.google.com/github/techpvk/EVR1/blob/main/S6/S6.ipynb\" target=\"_parent\"><img src=\"https://colab.research.google.com/assets/colab-badge.svg\" alt=\"Open In Colab\"/></a>"
      ]
    },
    {
      "cell_type": "code",
      "metadata": {
        "id": "0m2JWFliFfKT"
      },
      "source": [
        "from __future__ import print_function\n",
        "import torch\n",
        "import torch.nn as nn\n",
        "import torch.nn.functional as F\n",
        "import torch.optim as optim\n",
        "from torchvision import datasets, transforms"
      ],
      "execution_count": 30,
      "outputs": []
    },
    {
      "cell_type": "markdown",
      "source": [
        "# Architecture\n",
        "![image.png](data:image/png;base64,iVBORw0KGgoAAAANSUhEUgAAA1QAAAFNCAYAAAAHJy4nAAAgAElEQVR4nOzd3YvkVp4n/G881H+wN4/pnhdDRGGy4rkrlvERfdPLgCOr/EzCQPUybTBz4SNYmslcurOviunyUlfONqsYmoWQLxZD9TBteCCbLEuGZX3ThNwMdRmVFCWBe6bdWc9/cfZCUoTiRZGSQi9H0vcDictVmZH6/fTTedHL0eDm5kZdXV1BSgnSx8uXL3Hv3r2mN6NSfYgxje6x6759VepL7H2JMw/mZBtzso05IYB1QOs1cOf58+cAgMFg0OQ2ERERkYaee2+a3gTN/Af84Zv/v+mNoMaxDug/AC9fAgDuPHz4EFdXV2wwNfNQvNX5fdKHGNPoHrvu21elvsTelzjzYE62PRRvNb0JRETaiq9Q/V8NbwcREREREVFrcUJFRERERERUECdUREREREREBXFCRUREREREVBAnVERERERERAW1cEL1LX4r38JD8RYeShvlrseU+OxPvi71k5vVp5z1KVYiIqL+ePOb98M+WLyP337X9NZ01DfnUY7fwq+++bbprWmN9k2ovvkf+GwR/vGd//TXiBd0fbNWAEU//G18bxj98fK/d+dg7VrOvjnHz6Lt/tlvNg72rsVKRO2yr32i7BJt9s9+s3kCK3Fy66A2vUW++xYvPnl/WVvhScP38avffJ1y4vBbvPnmHD9L5OmheAs/k+d4wb6rZl/jV2J9P6R/neNF05ub8Id/T/xP4phc/3ofP/vE7n1dtW5C9eJ3z6I/3ccPjLeXf/+n5d8DX/2u+NWD+3/3Md4JfxN+N+9GZ9i1nL3591d4Ff351b+t/76uxUqUyXeJDrsvV081jXlf+1QpTfNRhlf/tv7/b37zD8sTZxh/jL99t/ZNqtd3Nn72SODJ5YtlbQEAFi/w1fTH+HRr4v4tfisFPvrpM7xarP/Lq8Uz/P6PFW8v1a+G4//Nv79K+ZcXeHX5Czx51O+rhi2bUH2N319Gfxy/j//4/dW/fO8vPoj+dB/v/eCHxX/F94f4y+iPr/73/yr5lrEmdC9nb/35O9GkBnjvL95O/Ev3YiXKJsAfmt6E2ukZc3r7VDU981G672x8Oo3P4d/HR/8o0fVXD7/4518sJ1LvnXp47r3Bc+8NPvvi13hvvOP7PxGrOzVOfo3Pou9/7nn47NNfd38Cqp0f4ifLffAGz71f473lv32AJ2v/doH7hX5Hvcf/O8s69PDkJP7bF/jsv5X9qEV73Gl6A3L5LlEww+FaI/rWjy7w/EcXJfySH+KvToCvLgEsrvCv30n8zfdv/SF9dTFn717gl96O7e5irETULmntE5Xga/zqUWJy8elVD9rf5InCj/G3P1pN0t/6/g/xE3tj+PqdjX+Jv//k1/jlz5MnEN/GW+/WOcmn7nsb93/+a7x3+WN8BfR6XNToFaoXnyQXD/gWv/3k/cS9wedblw7fzK9WDenmVYaUh+jy/g4A+N5fxOcHXuCPml8aX4vvu6/xq8SiCW/Q0Zyt3Vu/2u5OxrrXt3jxm/O1e+rbeH/8ch988jWA8DmB2/ZB04rUzXJ/rT3TsPve8+Xnbz54/Z292t/RbR0vPnkLDxODTFz+uJZnS25re7oYcyYp7VOoh/ko0YtPokEbwjPkP+nblZaFjz/d8i2rfvA+Pvq74ndjrBZ/2Kyh5PNrG8/77KjN+Gdy1/3edmXTt/jtJ291sOaz5S3r8f/mGxu/kom+KhozHN7Hvo0/W14pXR8XZf2dWfZ71s9a1m7UP68/e/g+fhW3y999vf55B46f9LhCtbjCp+IXG/cGP8Nnj14BX6zOQP3p31aX+f/sz9I/7g//DmCzoc34O4Dwlg1EzcQf/v1boBVndK7w6aPE/dVBAOCHvcpZn2IFwts6nlyu/92rxTM8+ecJnv/8gNsaG+PiV/IZvkre8794hs8ePcMfP32j5+Apc92EzzR8ttj8gBd4dfkCTy6v8NEXbT3bvrvt6XbMRTAfh3jzm/dX7d34Y/z0R23ol8sQDVYXAPAMTyTw0d//F/zNzn7nW/zr/477wXfwvQNqKdnPffW7r/GTd+M+5Vv8cVnDz/D7by5wP26b/+gv24F3lre7Fq37tHZl25vf/AM+S17F07GvyK3c9uLFJ29tjReAcMzwasc4pwzFfufu/V74s+QvNp4jfIGvpgJ/+LcPgMtnW333k0fAk4K3XWryDNULvMJ9fPTF9v2Y5T34n+N3/NloeQ98rQ8VH2IRFuB7n4b3tX5ml3FfecdztqZtsSZuA1neI+/hs08/wDtB0M57mC+f4avF/VUNn66atK/+p673ZWerm+RD9O+crvbXk9PV1c7P/rnYg8T3f/4Gz7/4eFmTOPn18n78WiahKW1Pp2MugPk4QPDfE89NfYAnpfRvbfE2/ubvP1j97+IZPvupiM60b161SUx2xsCfNq9uyPezL4P97mT1nE+yT/nGXV4lBKKTipFdi0IVrvusY5rkM3Xjj0sa+zQvT96yHv/vjD/Aky8Sz+B9+sHWZxWTnGR/gL865Hfu2e+FPis5pvh0dRy9unyGV+MP8GSr736Gfym4OqsmE6r7iZn224mV1JID1m/xpyD+/iJnXrL8jh3aNDg9+TV+Ep21CguwTznrU6xYf15s6W289e4FftniDuWd039a1fCP/uuqQ89wq0szstTN1/j/EoPB//yjH0b7523c/9E/4aP4VolLV6vlcnPZant6EHMuzMdBFsnV7V7hTxreBlypdy/Ck2Vrfxmu8PeRTFlme/EMn003VvlbvMBXPxUZl/NP3Ma1uMK/RjnfXOlttThTog9eLgp1YN1vtSubks/UdWmiXX57cf/nb/BL+wL3v594Bi85aS7sW/xWrm7FxclkeXWn8O/csd+LftZ7n16tPmvt+z/AE/sC9+O++weJyVbBE+WaTKg2JFZSa+R31PH7S3fY/dKZdC5ne+ge6/f/Gj9YNqo/xkfiffzsk6/xptUDjfWl7tfvy27JIGpXbSQnv4nOJpR4t1lbYtyyo+3pfMw5MR+HOfl171cSe+vdC/wyvgshubLf4hme7HyJ/X28d7pa4e+zTxMne6b/I8NA/G38x/+0+bzw6pbCd8bRv8WTre/+F34XT97iRaEOqvvbxzS/+2/xQP4+3vu06Op4Gqqovdh+BunHa1cb83g1FdFnJG5LHH+AJxuPG+T/nen7/fDtT44pNiTuPCpKzwkVEd3ibfzNPyaXzH2BV5c/xkePEg9ctl6y4+iDphc5aUIfY96H+Uhz/+eJpaYXv9jx7qU+iO9CWL99KXkFaeUd/NXyygbw1rsS/3k5KY0G4ikvao0XMnjLeH85yAzf3xjf2nUfP/j795fvZPzjH7H2/FT+V5MUq/u/HK4mfIe8X7K9suftxSfv46Of/gJfLSq4Bj6OJu/2+qS2zN9Z6faXhBOqXXbeTkV79SlnusQaLZkbvosk0bFM/0HLlfHyS97G2Qf7F1Pppj7GvA/zke6H+EnyGYjOtHPFvPXuxdpVu3BgvecMfBFrd0K4eLF8fuodfO/d1b999buvE89PrT9Dk02xuv+zv0vcFn754w6t7pdVxrx9Z+NfLhPPIH6x631Y+byTeB/ac/sKP0lM3kv/nRVsfxVaNKFq6LaIjfcZtUufctanWNeF7yK5Sizi0Naz3JsLgCQfdD1sxapGJW8D3HrmLuezf4mzwFrrY8z7MB/l2JhE9PHWv93igXWyH3yG328sd75VZ+9eJF4o+2bHQgbr/eq//M+o8k4muJ+8JTBw8fv4s5O3qJVZ9zutT7K/+mnK82RtU2He3jn9L9FzQ/Up83c2sf1ZtWhClVTxgHHn0p9t16ec9SDW7+zw/QvfJBZtybhsvM5eTf8hiunbtXfObN9H3ibhy6ABRLcqfb18iPtFYiWnZIzJd5199s/RO+W+sfGznz7DTskOWIuFDfoY8z7MR1l6d+vfN+fh6nwbK/q9+eY8sYx8vAgE1h6uT66O+ialzm6z+rwXeBXdbhX3e+HS6gAWq9ddrPeJ+es+t7VJdvEV2vRSIG8Zj//kIiJri0lUqMzf2cT2Z6XHe6gyCjuY6t//k1zF5i//vOnJwWH6lLM+xQogWj73GT7b/PtE59o+L/DZT8VGTDUsuFKx+3+3epP8q+mP8dF04xvGH+OzxMO8bxnv451ptLLZ5Y/x0fL9G/fxDl7suEIRdsBfXQLAMzwR4aD7vQbf39XHmPdhPsoSXpX4KppYvpr+A35rdPz9XYsX+GrxY3y1WTMAgA/w5B8Tq9u9e4EnJ8/CydbiF/hI/GL923csHLDXuxO8h2eJgWti8aB9/xb/Tc66L+L+z5O/oxv1kD9v+47/v8YPxtH7mHbVRBW+X+LvLPOzKtSqK1TJByT3LWv4l39+2O/pwpn+WJ9y1qdY8X2Jn26u9hSv6tTapWPv46MvPHx0kjhXOf4AT7rwstPv/xA/+cLDk5P76ysJjVP22fclfvnFx4lFR4B3Tj7GZ94/rZ5p2HD/5xu5a7r96mPM+zAfhb3zFxt/8e4FnpysruCV975KDb17gc8+/TjxnGwkrhvvYusWqPs/9/Dk9IOUOsu7Gl7iagkAjN9P3Ga2/W9bJ/Py1n0hP8TflvA+tzrd+qxbgbylH/9v42/s7X977zT5/qXd0sZLt4+jiv/Oaj+rOoObmxt1dXWF7/0//2/T25LB1/hVvExiZS9wq+N33O6heAvPvTLuDtc3Z4Vj/OYcD6Ozk++cevjlj+IzYvrGuqm8/VuNOrdv9Qb0+7ne/F4V3fdNWfoSZx6l5CS1fWon1gkRUboH7/7fAFp2hWr9vtJdy4SWIPEW8Hf+01+39Ex/Uvdyln7LXfdiJaJ20eaWYCIiqk3LJlTA/b/7ePnugyou86+W/ty+F7itOpOz6J0ZHyXeIL65PGtnYiWidsnQPhERUTe1bkKVfC/CarWPsnyN38cP/p7818ZvPSpNZ3KWeJP1+AN89MWOe8E7EysRtUuG9omIiDqpZc9Q9Ucf7lvvQ4xpdI9d9+2rUl9i70uceTAn25gTIqJ0LX2GioiIiIiISB+cUBERERERERU0sG1bKaVgmmbT20JERERERNQKi8UCAHDn4cOHuLq6glKq4U2ipMFg0Pl90ocY0+geu+7bV6W+xN6XOPNgTrYxJ9uYEwJYBxTWwL179wDwlj8iIiIiIqLCOKEiIiIiIiIqiBMqIiIiIiKigjihIiIiIiIiKogTKiIiIiIiooI4oSIiIiIiIiqoPROqwMXUNGAMBhhEX4Y5hRuk/gDcqbn2/QPDgDlN/YEeCzA1whyZbtPbUoeuxduNeALXhGFsHK/pB3h75G674h/byMfAgGG66EBGljkZ5MxJP3TjeC4F66Rh+Wqx020WaaS6ujxoHHJzc6Nms5nSmiMVAAVACSmVlFKJ6P8BqZytH/CVJaJ/F0JJKZWUYvkZkNs/oRsAtfwe37ESuYSqMzV1xZjUZLxJZcVeVTx17xtneXxuH6/C8mvdllJjz912KbXWfkGsfk7s+5n8mjj+lFIFc1KPxnIS0aV9SmKdbGu6TuqQrxbrabN004c60E2VdVlkHJKsgVZMqHxLKCEdtR6Oo2RaoHFDvJXp+GeEqnmMllsdB+qyeIRUVvTnLk+omo43qYzYq4yn1n0TH6/CWj/G/bjhrPd4LTP23G1X9DNx+1Vl2E0NBnbnZNXx1T2BTmpygKRT+5TEOtnW9YF03lqsq83STdfrQDeV1mXBcUjrJlRpksna9fe7Eu1ITqhC4aAu7rD25awq9TZGzcebdHjs1cZT574Jj8l9x2u9g6c6Yk9ru1aTrerP6uo2GEjPSX2ay4le7VMS62SbbjkpV95arK/N0k2360A31dZl0XFIsgbupN0K2AWL1wEwGSb+JsDrBQCMcXeY8kO9McG572M4DBPR/XucuxZvV+JxcWkDgMTJZPtfJycSsG141z6AHhy07iVsAMI6x4509II4GjW9CQ3oyvFcn37WSR1y1iLbLKpFlXVZzjikPYtS7OBfewC2G9bh6WNIAN7ZKPEwWQDXHOHM44EfiwuzL7oWb6fiEUfYOTwaHUEAwOJ1pwaZaW2XG7bqGPftjE8wxYdnHgCBRw96FnukU8dzVVgntchTi71ts6h2ldflgeOQFk+o4hnlroZ1gplvQQrAPh5hYBgwjBGObQFp+Zif8sAn0kLwGoumt6F2+9qu8O+PsGN1M8PszupmgQvTNMMvY4DB6AyekLD8Odg80xLrpCV60GZRC2Wsy5LGIa295S+YPkV4he7x7oZ1eIrzz4HF6Aye58EDADHGCc9qEVGD0tuu+JZkD2fHxwAEhJQYA1gsbHiejeMR4KhZ+6+w+5ewbXv977wFrr8MwJEyLbFONNejNotapJm6bOcVquVlfwlntjsdrmlgNDqDJyw4vg/HkhCejePRAAbfRUVETcjQdgEC0vGh1Bzz2Qyz2QzzuYIjAcDG0y60X5MZlFLLL9+REPBgn41g9P7lS7TEOmmJHrRZ1EL11mX7JlSBC3N0Bg8Clr97dhlMDRzbHoTlQ81PMRkOMTmdYe47iWer6t5wIipsfLf9S1JkaLtiR6PtaCcnEgCiB2O7ZTiZYe5bEAA8+yk4/qJdWCf66lubRe1Qal3eMg5p2YTKhTk6hg1AOmn3ULu4iM4AP978huEEs3BqCvuSMyqixg3vYgwA3jV2Nm3+dXi7butlabuGuBsmAzvb+fjB2K4aPsAjAaTGTwSwTrTS8zaLNJWzLksah7RoQhVgasQDEh+pd8vE0lbrICKNjHAkAMDGrnMc8Uo9ctdapq2Rve0ahckIX/mwqTOTyzQ+wsUPBbgiNqVjneik320W6SpfXZYzDmnJhCrA1IiXPPcxm2S4+cc7w8VWYoJlYvgOCyIdDPEgPN0M++l0fUnSYIqne94N0Q752q7hg0fh7UxnF1hvvlyYxzYAAeu8tclAmA8j8TqLxL/Ei3WIR+DaQX3HOmmL7rdZ1Eb56rKcccjg5uZGXV1dQUpZShBVcM0BwvgF5Hi883tOzmerd/i6JgbH0cpAQkJGP7Kw7Wi1Pwv+/FTrZzIGgwHClzBXJYA7vcDldfS/Cxu2BwghEad4LacVqD7GpObjTTo89mrjqXvfxJMOQEDKMYAFbDt834x05rdfkS5RmbHnbruSPwMBIccYY4GFHa5UKkp87UO9+zi2vq/D+OKVl8K/a3JJ7GZyAujWPiWxTrY1Vyd1yF+LdbVZuul2Heim6rosNg5Zq4Gbmxs1m82UzhwJBez/ks76z/i+o6QQ698nhJKWo/xmwsgFQMW/wVEyZ07LVn2MSc3Hm3R47NXGU+++UUopXzlSKJHYfiGkcho4WMuMvUjbpZRSviXXcgEhlVVyMurfxzFfOZZUQiTzIJSQViP7O6m5nOjVPiWxTrY1l5M6FKvFOtos3XS7DnRTR13mH4cka6AVV6j6qA9nPvoQYxrdY9d9+6rUl9j7EmcezMk25mQbc0IA64DWa6Alz1ARERERERHphxMqIiIiIiKigjihIiIiIiIiKogTKiIiIiIiooI4oSIiIiIiIiqIEyoiIiIiIqKC7jx//hxAuPQf6aUP+6QPMabRPXbdt69KfYm9L3HmwZxsY062MScEsA4IePnyJQDgzsOHD3F1dcW19DXTh/cb9CHGNLrHrvv2VakvsfclzjyYk23MyTbmhADWAYU1cO/ePQC85Y+IiIiIiKgwTqiIiIiIiIgK4oSKiIiIiIioIE6oiIiIiIiICuKEioiIiIiIqCBOqIiIiIiIiApqz4QqcDE1DRiDAQbRl2FO4Qa3/ZgJw1j9zGBgwDBd3PJj/RDldJAzp+0XYBrVhOk2vS1l6EY8W8eqYcDsQjEWbLtCLsw4J8YULd69K8F0LRebX22u4XJ043guRW/7KF3kq0WOtyiXvH1j3vagQN970Djk5uZGzWYzpTVHKgAKgBJSKimlEtH/A1I5O3/IV5aIv0esfk7s+xl9AKj2FxTKabkqj3EH37EScULJhgqhrNiriqfufeNIsTxWpZRKLv8fSlh+rdtSauwHHme+tcpD2cdlE8efUkopP6pZIaN9vf7l1Lu71zSWk4gu7VNSYznRoI9K03Sd1CFfLbZ7vFVUH+qgMnmP76q/XxUbhyRroBUTKt8SSkhHrYfjKLkn0OVAZOvn2qHqA3V3TleNYh2D2MYG7UIqK/pzmydUVcZT676JGz5hrddjPPCGUHXOqcqMvUjblfjhMH4po+/v1oSq7olyFk0OkHRqn5KayokOfVSarg+k89Zi28dbRXW9DqqUt2/M2x7k7nsLjkNaN6FKkzyI1zmVDEDq1GQntjun5as3xrAm4gMsjrO9E6pq46lz3zgy/Qxo/G91Dp7qiD3LcRbGLpTlV9OecUK1rbkBkl7tU5Jug8Y6+6g0uuWkXHlrsf3jraK6XQfNyHt8l/X9RcchyRpozzNUebiXsAEI6xyTprelpcTRqOlNKNkE576P+WyCYdObUoquxOPi0gYAiZMdB+vkRAIAvGu/1q1qXDDFUxsQ1uc4bfcOpky6cjzXp3t9lC5y1iLHW6SBw9qDcsYhdw7Ygsb51x6A7US6YWYwvsuuKZdgig/PPAACjx50L3fDYbdi6lQ84gg7m8PREQQAb/EaAboz2Exru0IBph+ewYOEczoE0M3JpPfFBczr6H+OjnDy4AEmXarpnDp1PFel432ULvLUIsdbVKb9feOGAu3B3s8/cBzS4itU8YwyLZECR9ixIohhcoWgWODCNM3wyxhgMDqDJyQsf86z4lSP4DUWTW9D7W5pu9wLnHk9OOPr2bDt6OvsDMejEQaG2Y2VDKkc7KNaguMtKsMtfePB7UHK55c0DmntFapg+hThFbrHG4kM8HoBAB7Ojo8BCAgpMQawWNjwPBvHI8BRs24PVrLwL2Hb9vrfeQtcfxmAvRVRNdLbLgAIMA3v9cPnXT0Gh6eY+w+AxFnwIHBx8eExbM/GsXEEf37amauRdAD2UZrjeIvKs79vxMHtwa2ff6B2XqFaXuaTcGZph6mAdHwoNcd8NsNsNsN8ruBIALDxdMrTJpjMoJRafvmOhIAH+2wEo/cvQCGqwG1tV3R1Sj7u+IRi45ai4XCC2dyBBADvC3zJ5pkA9lGtwfEWHSjLuP6Q9iDTvOEw7ZtQBS7M0Rk8CFj+/rMeR6PtIUlvH3LPYDiZYe5b4b2i9lOwDSRtjO+2f4Jxa9vlwjwOr06d9/J07ghHAgA8sHmmXdhH6YvjLSosx7g+KXN7UPDzt9wyDmnZhMqFOTqGDUA6afdMDnF3DKR2ytHDZZRi+ACPOKihugzvIjxcr3cvveBfw6t3iyqSoe2KV8vCNS7i+8RNE6b5NLq/e4GnpgnTdMFxJPUW+yiNcLxFh8oyrt/j1vYgw+eXNA5p0TNUAaZGnBQf+67YjY4EAA+L1wEw2cheZwZoVfERLoIiwFVpqXrRVQnPxqU7w2TjuI5XkJK71jJtjWxtVxA+jADPs+HtbKQ8eLYHD8BJJ5fXZttDWbBOdMLxFhWXfVyfbl97kPXzSxqHtOPFvjnfjr58s/Hmi+biF9DtfuOxTlDpC+N8ZQmhpLOdhOVLzzbfFl2BamPcr+kXZ5Yde5tf7Jtac6nHcbXKjT1n27VTl17s6ytLCmVttT3+8uWJfGFr8+1TUmN1okEflUaXOqnDrbXYgfFWUX2qg/Ll6RuLtAf5+t6i45BkDQxubm7U1dUVpJT7Z14Ncs0Bjm0AQkCOxzu/5+R8tnZyZPkzEBByjDEWWERnd4XlY675CkGDwQDhvqpCgKkxwlk0qw/zE6/KE/5dHcvSVhvjpgDu9AKX8XtvFjZsDxBCIi6pzRqq0uGxVxtP3fsmWY9SjgEsYNvh+yWkMy945qqYMmMv0nbt+BSYg2PYkKWullXvPo4l9vUyJ6u2GULCmTe3IlgzOQF0a5+SGq+TBvuoNM3VSR3y12Lbx1tFdbsOqpWvb8zfHuTve4uNQ9ZqoA1XqJZnLvd87Tp74lsymllGX0LuODOqJ1R+5sNXjiWVEMk8CiWkpepKUfUxJsVny/LVUFUOj73aeOrdN0qFVyjE2vEqhKytFpPKjL1o27XxKR26QqWU8rf3NYRQ0nIau+IQaywnmrVPSc3lpPk+Kk1zOalDsVps83irqG7XQbXy94352oNifW/+cUiyBlpxhaqP+nDmow8xptE9dt23r0p9ib0vcebBnGxjTrYxJwSwDmi9Blq2yh8REREREZE+OKEiIiIiIiIqiBMqIiIiIiKigjihIiIiIiIiKogTKiIiIiIiooI4oSIiIiIiIirozvPnzwGES/+RXvqwT/oQYxrdY9d9+6rUl9j7EmcezMk25mQbc0IA64CAly9fAgDuPHz4EFdXV1xLXzN9eL9BH2JMo3vsum9flfoSe1/izIM52RbmpOmt0MtgANYJsb0gDAYD3Lt3DwBv+SMiIiIiIiqMEyoiIiIiIqKCOKEiIiIiIiIqiBMqIiIiIiKigjihIiIiIiIiKogTKiIiIiIiooLaM6EKXExNA8ZggEH0ZZhTuEGWH3ZhGtHPGVO4VW9rGwTTtVxufpmdTlKAqdGBOA86JvQTuCYMI1GHhgGzrcHslLHuOrZf99na5wMDhumig6Herkf7PbMAmJqAMQiXKh8MAMNEv3NSq3x9JY9naruDxiE3NzdqNpsprTlSAVAAlJBSSSmViP4fkMq55cd9Syx/Psv36wBAtb/At8IcijCfm1+OX+2vV6qGGHfwHStRO1CyoWI4OPYDj4nKty8nR8bHqIhqcHXMCquGYkyoIvbMdVfxfk1q4vhb8ZUlsNzny1hFs210Yzmpcb/nFeakgS8HiZxASYm1Y8hpYpuir2aPnXrk6yv1PJ6r1oc66JMi45BkDbRiQuVbQgnpqPVwHCWzDLjiiYOU0fe34+Cua0JV92A1qbFBu5DKiv7c1gnVQcdEBmKNwlYAACAASURBVLXum3gwKaz1eOJjF0LVWaZlx56n7qrer0lNDgaWJ7m2Ym1WUzmpc7/n1dSEyrfCiZS/8fernHBCVZW8faWux3PVul4HvVJwHNK6CVWa5EGcxpFxIhxOqJJ6N6EK9388aIlrp60TqjRZjoks6tw34TG6e1/E/1ZnnZYbezl1V9Z+TWpuMKBvW6zbAKmK/Z5XY1eo9ky0wpxwQlWNvG2Wvsdz1bpdB/1SdBySrIH2PENVRDDFUxsQ1uc4HTa9MdSsCc59H/PZBCwFnbi4tAFA4mSy/a+TEwkA8K79WreqPKy7Le4lbADCOseOXU5EjcrZZvF4ptYrZxxyp/wNq49/7QEAxNFox78GmH54Bg8SzukQQFsHZNXyvriAeR39z9ERTh48wGTYzaHfsKNxJe0/JjQmjrBzi0dHEAC8xWsEaOekpIy6a+1+3cENey6M77Zxb9arS/u9LH7UX4mjZrejy/K0WTyeqTMOHIe0+ApVPKMUePRgR3juBc48njW5lWfDtqOvszMcj0YYGCZXQmylW44JHQWvsWh6G7TXwv16K4EjhKvaJVcXNQyTK7gtdXG/Hy4av+PRg2a3g5J4PFOLlTQOae0VqmD6FOEVusc7bucLMA3v9cPnvNdvt+Ep5v4DIHEmKghcXHx4DNuzcWwcwZ+ftvKKQF/tPyaorbq1XwO8XgCAh7PjYwACQkqMASwWNjzPxvEIcNSs9yfCurXfyxFMEeUEzIkWeDwTxdp5hSqY4sMzD4CEM9txmEZXp+RjTgj22risPxxOMJs7kADgfYEveWapPW47JqidOrtfBaTjQ6k55rMZZrMZ5nMFRwKAjafTnjc+nd3vBwiAD8/CPzqzZjeFNvF4JmrfhCpwYY7O4EHA8ned9XBhHodXp87ZDxUwwpEAAA+tXQegb249JjpgfLd/J0c6vl+PRtt7tP2LkJSg4/u9kAAwR4AHwPLBnGiIxzN13i3jkJbd8ufCHB3DBiCd+e5L/vGKM7jGhWkm/mER3SO5wFPTxCVOcM6Vt6j1MhwTOhvexRiA513DB7aPR/8aXv1bpYGW79dUQ9wNd3h4wmYzrvjh3/o3TBNd3e+HMUeIcsJb/fTC45k6oKRxSIsmVAGmRtzR+Ei7CyIIb+iF59nwdmbAg2d78ACccEK1g49wYSkBLiylu2zHhN6iK6KejUt3hslGDPEKUnLXWqad1YX9mm4U7nAsXgfAZKMF7u0EGuj6fi9qaqwmU8yJfng8U/uVNA5px4t9fWWJQ1/w2a6Xz6HSF8b5ypJCWc5mLv3lC8zqeJFktTHu1/4X+5ZxTKSrc98sX16a+obyeo/ZKmO/ve6q3a9JjR1/qfs1bqN3v5G+Ds21SfXt97zQ4It9Vzlp/oXC/Xmx77pb2yyNj+eq9akOuq7oOCRZA4Obmxt1dXUFKeWhU7zKuOYAxzYAISDH453fc3I+2zo5svEpMAfHsCFbseLMYDBAuK+qEGBqjHDmIZHTBRbRlTsICWdefY6qjXFTAHd6gcv4nVsLG7YHCCERl9TtNVSeQ2Mv55iobvvySdQjBKQM69G2vfD/nXmtZ6bLjT1f3VW9X5Pq3cfrlnFCQMgxxon2R1g+5g3d19VUTurc73mFOan/97omopwAcndKcHK+fVGkDoMBGjt2qpe/r9T1eK5ak20ola3YOGStBtpwhWp51WTP1+1XGniFao3vK0eKaOYdfQmhpOWouk4mVR7jmnj/H1JD5Tk09nKOieq2L7/tehRCqq2LqDUoN/Z8dVf1fk2qfx+v8y250f7IHVfN69VUTurc73mhoStU2XLCK1TlK9ZX6ng8V63bddBH+cchyRpoxRWqPurDmY8+xJhG99h1374q9SX2vsSZB3OyrakrVDrr9hUqyortBSVroH3LphMREREREWmCEyoiIiIiIqKCOKEiIiIiIiIqiBMqIiIiIiKigjihIiIiIiIiKogTKiIiIiIiooLuPH/+HEC49B/ppQ/7pA8xptE9dt23r0p9ib0vcebBnGxjSraxTghgHRDw8uVLAMCdhw8f4urqimvpa6YP7zfoQ4xpdI9d9+2rUl9i70uceTAn25iTbcwJAawDCmvg3r17AHjLHxERERERUWGcUBERERERERXECRUREREREVFBnFAREREREREVxAkVERERERFRQZxQERERERERFdTCCVWAqTHAYDCA6e77NhdT04AxCL93MBjAMKdwg9o2tDUC14RhrPI0GBgwTBedS1VnayLjMaG5rTo0DJjt3zkJ2fdT93LR59gz6mz7dIAoJwPmpF55887apYO5MON235hi//C+yJg12+cf1P/c3Nyo2Wym2sB3LCUAhehLOinf6Mjl9wgplZQy8XNSpf2YTgDU8Ft8ZYk4L2KVK1FPnuqJMaJZTZQVe+ZjIqda941SypFiWYdSSiWX/w8lLL/Wbaki9jz7qa5c1LWPdYw9Td11v6RZ+5TEnGxrLCd1yJt3jfdT1TpdBzXzrVVbn143xcesWT6/SP+TrIHWTKiWgQqprOjPaR2zbwklpKPWw3eUbGiAVkQdB+qywLZyVY86GyPdaqKM2PMcE3k1MtkV1vr+8eOBuFB17p6yY8+1n2rMRR37WNfY0zQ1QNKtfUrSKyerAVUfc1KHvHnXuXar1uU6qFXcxksZ1c3uCU/hMWuWzy/Y/7RwQhUenPFBGyc17+AxuTN0V/2B6uwt3Dro0Bg1VROHx17OMZGmzn3jyPQrF/G/1dkplxt7vv1UZy7qamN0jD2NDm1Skg59FnOyTbec1CFv3nXYT1XrYx1UIWzfhbL8fePS4mPWLJ9ftP9J1kBLnqGa4Nz3MZ9NMGx6U7rCvYQNQFjnmDS9LVRAV44JF5c2AEic7CjEyYkEAHjXfq1bVZ48+6lruehz7FQ1cTRqehN6iXmnUgVTPLUBYX2O030dRdExa6bPL6f/acmEChgODx82+tceADYIAOCG1YPx3XYPxw/V5poo45jQhjjCzj0wOoIAgMXr1i6Skns/dSgXfY69DG1unyoRTPHhmQdA4NGDDrV/uiuQd9Yu3S7A9MMzeJB4vHc2VXTMmv3zARzc/7RmQnW4eAbKhnhF4Ag7VvMxzJ6szsOaaFzwGoumt0EXfc5Fn2NPxfYJgQvTNMMvY4DB6AyekLD8+f6z2XSYg/PO2qUM3AuceXmuOuUcs2b9/JL6nzslfEYrBNOnCK/oPWZDjACvFwDg4ez4GICAkBJjAIuFDc+zcTwCHDXr9O2ArAki0hXbJwD+JWzbXv87b4HrLwP0Nyk1ODDvrF26XYBpeC8ePr+1SIqMWfN8fjn6cYVqeblawpl1eYqQl4B0fCg1x3w2w2w2w3yu4EgAsPF02uHLVKwJItIV26fQZAal1PLLdyQEPNhnIxhtfume7g7JO2uXsoiuHsnHpzmeA88xZi30+Yfp/oQqcGGOzuBBwPK7fcWliKPRdql1/gFw1kT7jO+2fPGNEvU5F32Ine1TquFkhrlvQQDw7Kfo8jk/nWTOO2uXMnFhHodXj85zFkm2MWvxz9/rlv6n47f8uTBHx7ABSIf3XK8McXcMwPNw7QNbFRI9gOfVv2E1YE1oZXgXYSleY1cpwr/uaB3u0Odc9Dn2NWyfbjV8gEfiDF5a/0XVuDXvrF3KKF6xD9e4MM3EPyyiZ5kWeGqauMQJzmcTDPOOWfN+fkn9T4cnVAGmRnxw++CV53Wjo7D8Fq8DYLJRPp0dvLAm9DNCWIo2Lt0ZJhv7JF7ZR+5ay7Rz+pyLPsceY/uUjY9wATkBLiBXp315Z+1SdkH4QBQ8z4a3c7DpwbM9eABOotdu5Bmz5v/8kvqfdrzYd93tLzHV423qh0DVL4xbvv158wVn8YvPdr8VukyVx7hGr5ooO/Y2v9h3+QLI1DeU1/vy6Spjv20/1ZmLeo8/vWJPU3dOVvRqn5KayYmvLCGUdLZzkVonNWquTqpWJO/61m7VulsHTdnz8t5Sxqzpn1+0/0nWwODm5kZdXV1BSrl/5tWoAO70ApfX0f8ubNgeIITEeBz+1cn5bDlpdc0Bjm0AQkDG37Ah+f06GgwGCPdVdZZ5goCQY4yxwCKatQvLx7zia/Z1xBjTrSYOjz3fMVH/9uURYGqMcBad/ZRyDGAB2w7feyKdea1nPMuNPe9+qi8X1e9jfWNPU2/dr+jWPiU1k5P1Wgj7p3hFr/Dvmlw6vak6qV7+vOtcu1Xrbh00xYU5OIYNuXOV6cPHrPs+v1j/s1YD7bhCFc8q07+SZz0duf97N79fR6jpzIdvyWj2HX0JqawdZ6eqUFeMSulXE4fHnu+YqH/78vKVI8VaLQohVU2luKbc2Ivsp3pyUf0+1jf2NPXXfUi39impqZwo5SvHkkqIZB6EEtJqpF1Iai4ndciXd51rt2rdroMm7LlCFTlszHrb5+fvf5I10JIrVP3ThzMffYgxje6x6759VepL7H2JMw/mZBtzso05IYB1QOs10P1l04mIiIiIiCrCCRUREREREVFBnFAREREREREVxAkVERERERFRQZxQERERERERFcQJFRERERERUUF3nj9/DiBc+o/00od90ocY0+geu+7bV6W+xN6XOPNgTrYxJ9uYEwJYBwS8fPkSAHDn4cOHuLq64lr6munD+w36EGMa3WPXffuq1JfY+xJnHszJNuZkG3NCAOuAwhq4d+8eAN7yR0REREREVBgnVERERERERAVxQkVERERERFQQJ1REREREREQFcUJFRERERERUECdUREREREREBbVwQhVgagwwGAxgurd8p2vCiL53MBhgYBgw3aCezdRSz3MXuJiaBozBKi7DnKLtYeXZrzrrZM3tFcCdmmv1ODAMmNMuxlykRl2YcT0YU7S4tLPpbPt0gCgnA+akXnnzztqlQgK4m3VjmBXVWZb+5MA++ebmRs1mM9UGvmMpAShEX9JJ/15Hiuj7hJJSKrn8fyhh+fVtdEEASv08HXNXdox7OXIVg5RKSpnIh1R70lGJsmLPs1/zqHXfKL2O13pi95Ulov0mtmNGWTtyj7r2cdEa9a1EPmo6Ruuu+yXN2qck5mRbYzmpQ968a7yfqtbpOqico+RmHyhW44Ctbv/AOru9PynWJydroDUTquWAS0hlRX9O7ZjjxAtLre0TP+7Yd+wszZR5oOqauzobI98SSkhnPSblKNniQXuu/ZpTI5NdTY7XWmKPY97aYXFNVh9zHXEWrtF430sZ5aPbEyrd2qckvXKyGvT0MSd1yJt3nWu3al2ug6o5MqU+UsYDB9VZlv6kYJ/cwglVGFCczHimmdYxxztq17+n7kTNlHeg6ps7HRqj5VmLGq4IJB0ee779mled+0a347WO2PftrzDmLkyoitfoKgdOLyZUaZpqn5KYk2265aQOefOuw36qWh/roBz72vV48p6tD8xSZ1n6k6J9crIGWvIM1QTnvo/5bILhrd/r4tIGAImTyY5POpEAAO/aL3cTtcXcdVOe/aqzftfc4vXmvdkBXi8AYIy77d6xKFyjwRRPbUBYn+O09TmgqoijUdOb0EvMO5VGHGG7moa4OwYAD6V0+zn7k0P65JZMqIDhMGfPunNHARgdQQDA4jX68rwkc5fOv/YAtLOTyL1fddajmgOA4eljSADe2Six8EYA1xzhzAOEdY4d88vWyV+jAaYfnsGDxGPOplrdPlUimOLDMw+AwKMHrI/aFMg7a5du5V1j15xpdCQA7JrcbNtfZ9n7kzL65NZMqDILXmPR9Da0Ve9yF18dYefcmN7VXGyCmW9BCsA+HmFgGDCMEY5tAWn5mPd1MuFedGpCeRi2TwhcmKYZfhkDDEZn8ISE5c959bJKB+edtUv7jBDOmWxc7lhuz7/O+jm31Fmu/uTwPvlO1s0m6ppg+hTh3WaP2TlT/YanOP8cWIzO4HkePAAQY5z0dgASYBrem4HPeUCyfQIA/xK2ba//nbfA9ZcB+puUGhyYd9Yu7TfE6WOJs2Mb9vEACyExHgPAArbtZf6U/XVWoD85sE/u3hUqoiyWtzBIODOeC6f6uaaB0egMnrDg+D4cS0J4No5HAxidfBfVLaKzifLxacufCywB26fQZAal1PLLdyQEPNhnIxhtfume7g7JO2uXspjM4DvhFSHPs2HbNmwbENKCJcNb/sb7Hlq6rc4K9CeH9sn9nVCN77LTLqrtuQtcmKMzeBCw/BlvLWqDttfchmBq4Nj2ICwfan6KyXCIyekMc99J3Mfd9FbWyYV5HJ5NPO/7Acn2KdVwMsPctyAAePZT9PG8QxMy5521SzkMJ6eYzVVi8j7HfHaKB0e3/OCtdZa/PymjT+7ehGp4F+ECIbsfdoN/jewXFHumF7lzYY6OYQOQDu/Db1wvam6Ti4vozNrWg7LDCWZOuLKhvevm8q5yL2EDELjGRfzshmnCNJ9Gz9gt8NQ0YZpupxYn2cb26VbDB3gkgNJWAaNsbs07a5fKEODLL8L+cdfKv5nqLHd/Uk6f3MFnqKKH3Twbl+4Mk40d4oZPsEHu3lM91/XcBZga8YHog3cj6KDrNbdH2sqGPRSE69LC82x4O2fQHjw7vKf9pPWvCkjD9ikbH+HCXgJcQK5O+/LO2qWSRLfqQZ7suPKUrc4K9ycH9sndu0KFIR6Ep1FgP52un82M1qNPn/n2XZdzF2BqxMtf+phNujkka58u19wtvDNcbJ3wCpaTyD4tNzw8na89s7H6Cm+3ACQcpaBUV28jYvu0LsDUMBLLFyf+JX4QXTxCb9dvqUyRvLN2qSRBdKseBKyte/Wy11nh/uTAPnlwc3Ojrq6uIKXMEm5DArjTC1zGSykubNgeIJYrgwAn5zOs8rtKPCAg5Rir1UMEpDPX/gzKYDBA+BLmQ+mbu/JivJ1rDhAepwIyDnzDeh6qdXjsefdr3duXh17Hay2xuyYGx9EqWkJCRvtsYdvRykIW/Hm1izNUH2cZNerCHBzDhoRTw2Sq3rpf0a19SmomJ+ttgpBjjAEsFvEZZ9Ho0ulN1Un18udd59qtWnfroHph3axqLO4fgPjq03DH9+PAOtvTnxTsk9dq4ObmRs1mM6U3R0lAYc+XdDZ/xleOFEokvkcIqRy/ie3PD0BJn6Rv7sqL8XaO3J+D3XmozuGxF9mvdW5fXvocr3XF7vuOkkKs7zchlLQcVUfY1cdZRo3GnyFVHYdn/XUf0q19SmoqJ0r5yrGkEiKZB6GEtBrvx5vLSR3y5V3n2q1at+ugYo6lxFr/t//YLqfO9vcnRfrkZA205ApV//ThzEcfYkyje+y6b1+V+hJ7X+LMgznZxpxsY04IYB3Qeg108BkqIiIiIiKienBCRUREREREVBAnVERERERERAVxQkVERERERFQQJ1REREREREQFcUJFRERERERU0J3nz58DCJf+I730YZ/0IcY0useu+/ZVqS+x9yXOPJiTbczJNuaEANYBAS9fvgQA3Hn48CGurq64lr5m+vB+gz7EmEb32HXfvir1Jfa+xJkHc7KNOdnGnBDAOqCwBu7duweAt/wREREREREVxgkVERERERFRQZxQERERERERFcQJFRERERERUUGcUBERERERERXECRUREREREVFBHZhQBXCnJozBAIP4yzBgToOmN0xDAaZGmCPTzfozLkwjzusUmX9MR4GLqWms1YphTuG2vlSK7Ff9BK4Jw9g4jtu/c261FffAgGG66FbkWWu0x+15Z9unA0Q5GTAnjSjWNnVozEAF1dHeZ6mzAO5mm2qYt7Yfhfvkm5sbNZvNVDv5yhJQABSEUFJKJaUI/x9QkE7TG1gYgFI/z3csJeK8ACpranwrkU9IVWZGy45xL0cu4xBSKillIh/lxpVFWbEX3a+3qXXfKKWc5XG7fRwLy691W+qLPdF+QazqUtRTk3XFmb1Gm2/P6677Jc3apyTmZFtjOalN8bapyjGDbrpfB/nV1d7fXmeOkpufL1bjjN3Divx1n6yBdk+o4gZ3K/GOknuTpr8yD9TlYFVIZUV/zjQ28aMDQ8oon+2dUPmWUEI6ar0c4jpp56C98H7NoJHJrrDW909cfzUfx7VNNOIOYasu61FHnLlqVIP2vKkBkm7tU5JeOVkNePqYk7oUbpsqHjPoput1kFdt7X2GOnNkSjuRNt5Qxeq+MxOqOPhdOyxMJidUcXHGHdO+nG395DKHTusnVGmSB1CdDo+9+H7Nos59Ezd86cdxvYOnemKv5pjKo/o489WoDu25Dm1SUlPtUxJzsk23nJSreNtU9ZhBN92ug7zqa+9vr7N99ReflNn8/GI1m6yBDjxDBSxeb97ZGOD1AgDGuDtsYIO0MsG572M+myBXKoIpntqAsD7Hae9zqKOC+1U7Li5tAJA4mWz/6+REAgC8a7/WraqcewkbgLDOsSPsjihWo2zPKQtxNGp6E7qpaNvEMUPP1dTe56kzcYTtVmKIu2MA8LA2rCihT271hGp4+hgSgHc2Sjy8HsA1Rzjzuj5YyW44zNu6BZh+eAYPEo873jL61x6AdnbO+ferxnY2fABGRxAAsHjdqUUa3HAWiXHHZwh5apTt+bY2t0+VCKb48MwDIPDoQbePnaYUa5v6M2agdNW39znrzLvGrlOxoyMBYH0yV0af3OoJFTDBzLcgBWAfjzAwDBjGCMe2gLR8zHlgF+Ne9GQAE18dYefcmOA1Fk1vQ2MEjrBjFbMMqxB1E9vzdWyfELgwTTP8MgYYjM7gCQnLn/MqSKVytk29GTNQeQq095nrbIRwzmTjcsfyf/512s8d1iffuf1bNDc8xfnnwGJ0Bs/z4AGAGOOkrx3QwQJMw+up+LzjPVYwfYrwbrPH7JypRvEtDR7Ojo8BCAgpMQawWNjwPBvHI8BRs/4NTtieL7F9AuBfwrbt9b/zFrj+MkB/k1KlIm1Tf8YMVLJc7X2eOhvi9LHE2bEN+3iAhZAYjwFgAdv2dn52GX1yy69QAa5pYDQ6gycsOL4Px5IQno3j0QBGH95dUrboDIB8fNryZ3Nusbx1RMKZ9W7YSloQkI4PpeaYz2aYzWaYzxUcCQA2nvaw/WJ7HmH7FJrMoJRafvmOhIAH+2wEo80v3dNejrapL2MGKl2u9j5vnU1m8J3wCpjn2bBtG7YNCGnBkuEtf9u39x3WJ7d6QhVMDRzbHoTlQ81PMRkOMTmdYe47iXszm97KNnFhHodnAM673IcHLszRGTwIWH4PrwK00fhuJzvro9F2VJ1diOMWbM8jbJ9SDSczzH0LAoBnP0Wf5th1y9Y29WTMQKXL194Xq7Ph5BSzuUqclJljPjvFg6P0nzmkT27xhMrFRXQGb+vhtOEEs3BKCXvXDZS0W7zKCa5xEd+3bpowzafRcy4LPDVNmFneGK0tF+boGDYA6fA+/MYN7yJccGf3w6Pwr7HrAn27pawyFIsX4ugVtuchtk+3Gj7AIwGkHj90gJxtUy/GDFS+nO19qXUW4Msvwt+9Wlm4nD65/c9Qpa0ORrkF4U2k8Dwb3s5RrAfPDu9zPWnlct0BpkY8WPHR5ztp9BE9POrZuHRnmGzsk3jlHblrTfUWC1cZ8sJVhiYbR1InJ5EZ9bo9Z/uUjY9w8UMBLn5YvjxtU/fHDFSpjO19qXUW3ToIebJ29b+MPrnFV6gi3hkutk5aBsuBGJebzW54Ol+7X331FV6CBSQcpaBa+bB8gKkRL8fpY7Z5wFBDhngQnm6G/XS6fnYpet9E2juq2mz44FF429LZBdabr+jWBghYfbyHprftOdundQGmhpFYTjnxL/FiHeIRerhWSeXytE3dHjNQ5TK296XVWZDev5bRJw9ubm7U1dUVpJR7v1FLronBcbQCkJCQ4/CPC9uOVgux4M/b+aDkYDBA+BLmQwVwpxe4jJeJXNiwPUAsVz0BTs5nWxPydS7MwTFsyFJXHisvxtu55gDhMSEg48A33J6H8hweexn7tcrty2M1mAQEpBxjtRqPgHTmtZ6tryv2ZU1CQMgxxlhgEZ1lEzUsE159nDlrVIP2vN66X9GtfUpqJifrbUJ4fMQrboV/1+TS6U3VSV0Ob5uqGTPoput1kE8T7X16nYU1vGo74u0B4jsAtj+5SN2v1cDNzY2azWaqrXzfUVIIBWD1JYSSlqP8pjfuAABK+iRHyWRudnxJJ+tnSHXrt+ZQXoy3c+T+HGTLQ3kOj72M/Vrl9uXlK0cKJRLbL4RUTgMHcZ2x+5ZcixlCKqumoKuPM3+NNt2e11/3Id3ap6SmcqKUrxxLKiGSeRBKSKuRdiGpuZzU57C2qZoxg276UAfZNdHe76kzx1Ji7bOztR156z5ZA+2+QtVhfTjz0YcY0+geu+7bV6W+xN6XOPNgTrYxJ9uYEwJYB7ReA+1/hoqIiIiIiKghnFAREREREREVxAkVERERERFRQZxQERERERERFcQJFRERERERUUGcUBERERERERV05/nz5wDCpf9IL33YJ32IMY3useu+fVXqS+x9iTMP5mQbc7KNOSGAdUDAy5cvAQB3Hj58iKurK66lr5k+vN+gDzGm0T123bevSn2JvS9x5sGcbAtz0vRW6GUwAOuE2F4QBoMB7t27B4C3/BERERERERXGCRUREREREVFBnFAREREREREVxAkVERERERFRQZxQERERERERFcQJFRERERERUUGdmVAFrgnDGGAwiL8MGKaLoOkN00qAaZQj093/fe7UhDFI5NMwYE5bns3AxdQ01uIyzCnctobVsXi2jmHDgNnWYLKI9t+gI/tvpwI12rs62MmFGefAmGJvc91lATA1AWMQLlU+GACGiW4dIxorNq5i7VJ7HdT/3NzcqNlsptrLV5aAAqAAoYSUSkqphIACpHKa3ryCAJT6eb5jKYE4T1AyNTGJfAqhpJRKSrH8OaT/YG5lx7iXI5cxLGtkmY/66+Tg2CuOp9Z9o5RyljW2XXPC8mvdgaMGegAAGYJJREFUllpi16AeK4+zQIxN10HddZ/GtxJtbsP9WJiTBr4cJOoHSkqs9WFOE9sUfelSJ9UpPq7SqXar1v066Jci/U+yBlo/oVoevNJR9Q67qlXmgbosEiGVFf05dV4UD4K2vsFRMiq0ssY1dTZGviWU2KqROKb2DdqrjqeRya6w1uPx45MA5dVcFnXEvnv/rQYxXZg85K5RDepAiwFSHK+UUa76OaHyrXAi5W/8/ap+OKGqSuFxlWa1W7Wu10GvFOx/OjShcjp70JZ3oIY5igc2cUOZNqHa9++ObO+EKk2y46hTVbGXFU+d+yasq301V++Et8m6rLMem4ozLUYd6kCHNmnVzurRvzV2hWrPRCusH06oqlG87nSr3ap1uw76pWj/k6yBdj9D5V7CBiCsc0ya3hZtTXDu+5jPJhjm+KnF6817RgO8XgDAGHfzfBDRXi4ubQCQONlxEE9OJADAu/Zr3aqmiaNR05tQM9YBACCY4qkNCOtznLKdpSYUHVexdqm1yul/Wj2hcsMMYMwR/l7DYfb8DE8fQwLwzkaJB/ECuOYIZ173Jq/+tQegOwPY1sYjjrBzi0dHEACweN39BWaCKT488wAIPHrQ3TZtb432ug4CTD88gweJxxyRpvKvw/+Ko2a3o6uKjatYu9QBB/Y/rZ5QhQSOsGO1LMPkSkCFTDDzLUgB2McjDAwDhjHCsS0gLR/zTjWW8VmJrgxgWxhP8BqLprehKYEL0zTDL2OAwegMnpCw/HmHz/Cm1Gif6yDmXnTypFXZovE+Hj1odju6Lee4irVLbVZS/3OnhM9oSHwLmoez42MAAkJKjAEsFjY8z8bxCHDUjAd4XsNTnH8OLEZn8DwPHgCIMU7aMkjPKJg+RXiV93EnBrBdi6fz/EvYtr3+d94C118G6OoOZI2mCTAN75fC50xMqmCKqH46e4g0rMi4irVLBHTkCpV0fCg1x3w2w2w2w3yu4EgAsPG07e9OaoBrGhiNzuAJC47vw7EkhGfjeDSA0ZV8Lm+vknBmHZhydy2ePpjM1p509x0JAQ/22QjG/hfFtRNrNF10hl8+Ps31rGuvBMCHZ+EfnVmzm9J9OcZVrF0iAJ2YUAFHo+3DuDcPMZcsmBo4tj0Iy4ean2IyHGJyOsPcdxLPVjW9lQcKXJijM3gQsPwOXMHsWjy7jO92vrMeTmaY+xYEAM9+iq6cuwBQXo12sg5cmMfhGf7zTh68JQgAcwR4ACwf3WzjNJNtXMXapR65pf9p8S1/Q9wdA/A8XPvAVpTRQ2Re/RvWYi4uojPIWw+WDieYORL2sQ370sVs0tbW04U5OoYNQDpdeFal5fEM7yI8jK+x6zCGf92vY3j4AI9EeKvtznatlTLUaJ/rIF5VDde4MM3EPyyi+/oXeGqauMQJznOu1toV5ghR/fBWv2rlHFexdqkLSup/WjyhAkZH4aG9eB0Ak40UdLkDrlraSietF2BqxAM7H+2/66gL8YwQHsY2Lt0ZNufp8YpTctdapp3kI1wET6BtCzXulrVG+1sHQfjQCjzPhrez0/Lg2eGzrCc9HJROjdVkqp1tXLvkGVexdqkbSup/Wv1i3+UbjDdfHhe/VK68l9DWDRW/+HX3e0Od5Vvot//dL/3lmlXFuJuvLFH/S2LTHB57tfHUuW+WL3pNfUN5vS+HrD52X1lCKOls77fUXFSgnjiz16gOdVBvm3QbPV6OigZf7Luqn+ZfKNybF/uWMq7So3ar1uk66Jmi/U+yBgY3Nzfq6uoKUspDp3iNcM0BjqNleIUcY4wFFtEZEdHiZb4HgwHCfXWoAO70ApfRuzuwsGF7gBAS43H4Vyfns9WJKNfE4DhaeUxIyHH8Y3a02p8Ff17Ow6flxXi7ZZ0IARkHvmEtDxU7NPaq46lz34RXMcL3nAECUo4BLGDb4TuZpDOv9cx09bGvxxu2W/EqWuHf1bF0etVx5q/R5uug3rq/jQtzcAwbstHVasOc1P97XRNR/WDZD206Od++iFKHwQAa1Un5Dh9X6VG7VdOrvaDDFOt/1mqg1VeoIr4loxlk9CWksnac/W0TlHbmY3XVKe1r82qU7ztKCrH+fUIoaTmlnjUvL8bbxVfX8uShSofGXnU8de6bkK8cKdaOYyGkauIwrid2XzmWVEIk95lQQlq1xVx1nMVqtNk6qL/u99HjLD8aukKVrX54haoqh42r9KjdqvWhDvolf/+TrIHWX6Hqqj6c+ehDjGl0j1337atSX2LvS5x5MCfbmrpCpbOuX6GibNheULIGOrFsOhERERERURM4oSIiIiIiIiqIEyoiIiIiIqKCOKEiIiIiIiIqiBMqIiIiIiKigjihIiIiIiIiKujO8+fPAYRL/5Fe+rBP+hBjGt1j1337qtSX2PsSZx7MyTamZBvrhADWAQEvX74EANx5+PAhrq6uuJa+ZvrwfoM+xJhG99h1374q9SX2vsSZB3OyjTnZxpwQwDqgsAbu3bsHgLf8ERERERERFcYJFRERERERUUGcUBERERERERXECRUREREREVFBnFAREREREREVxAkVERERERFRQe2fUAUupqaBwWCw/DLMKdyg6Q3TSJQjI0eOAteEYay+f2AYMDuVVBdmHJ8xhdv05hwkwDSKxWxxIN2vuTTd2H875W57ArhTc+37B4YBc9qHOkjqUvt0APbvjdpqkwcGDNPF/vSzdnur4PGavc4CuJv9iWGmf37d/c/NzY2azWaqlRypACgASkippJRKRP8PSOU0vX0HAFDOBxXIkSNF9O9CSSmVXP4/lLD8crZLlRhjAb61iqmJWikrdt+xEvsTSpYUSN37pq6ay6LO2Kvaf1lUHmfutsdXloj+XWzXAWpITpNtUlLT7VNSYznRuH/XpU6qkzgWIVb5F7fnXqfarVr36yCHQsdrnjpzlNzsH8Rq3LA1TKip/0nWQKsnVL4llJCOWs/jKil1D8TKVNqAe2eOHCXTBqtxEQpr/Wf8eOC3o3ALaqwximORMspDOydUy0mIkMqK/tzKCVWNNZdFXbFXuf+yqDrOwm3PVhLin6m+DrQYIGnQPiU1lROd+3ct6qRCy0nRVv5v/UGtardqXa+DPIocr3nqzJH5xqx19T+dmVClSe6ktqpjsLMrR3HR7kpdakEX1FRjFMYhlOU7LZ5QhdseNxjx/mzjhKrOmsuintir3X9ZNDlQ3tX27MvB6pitdtt0GCDp0D4l6ZCTJB36d91yUq7idadb7Vat23VQjvTjNU+N7PveeNKWrX8ou/9J1kD7n6HaQxyNmt6ElnFxaQOAxMlk+18nJxIA4F37tW5VqYIpntqAsD7H6bDpjTnEBOe+j/lsglaH0Yea26kr+698i9eb96sHeL0AgDHudj1ZnWmfqsf+vSLuJWwAwjrHjiY5HWuX9tg6XovUmTjC9lE/xN0xAHgoY5hwSP/TvQlVMMWHZx4AgUcPeFSn8a89ACmd0s6iBTA6ggCAxetbHkrVVYDph2fwIPG4Ay3+cNj+GJY6W3PpOrX/ckhre4anjyEBeGejxGIkAVxzhDOvwACvdbrVPlWC/Xvl3PAMF8a5zl6wdmmHPcdroTrzrrFrzjQ6EgB2TYa2Vdn/tH9CFbgwTTP8MgYYjM7gCQnLn/MsSar4qsBGkQevsWhqk+rgXvRkYNYiXa852pDS9gAAJpj5FqQA7OMRBoYBwxjh2BaQlo951xt0tk/b2L83ROAIO1ZsS1tRjbVLQIHjNWudjRDOmWxc7lg20r/OuoHV9j93sm6GtvxL2La9/nfeAtdfBmCLu1swfYrwLqvHPUpRgGl4PwI+70/QRFq5te0ZnuL8c2AxOoPnefAAQIxx0vmrEWyfdmL/XrP49iYPZ8fHAASElBgDWCxseJ6N4xHgqFli4sTapUjm4zVvnQ1x+lji7NiGfTzAQkiMxwCwgG17mTev8v6na4tS+M5qaUTBRSm2LVdO2/FwX/xvm6utZf33nCqLcZdoBZf1kmjzohTrWrsoRc01l0WtdRnpxaIU+9qeyGrlQ0s5vq8cK9Ge17AwSRP7XimlXfuU1FhOdtClf9cpJ+VaPeAvne3jbeciQRrXbtW6WwflSD9eC9SZCl8zslw6fbnUupVtldyK+p9kDbT/lr8Nw8kMc9+CAODZT9G790HuE7gwR2fwIGD5s+KX5sd3W/YgvQvzODyDds77EdqpdTVHazK0PcHUwLHtQVg+1PwUk+EQk9MZ5r6TuLe97g2vA9unrNi/1+dotN3ibi8SxNqldFmO12x1Fn/eKWZzBaXirznms1M8OLplQ2rqfzo3oQIADB/gkQDKWvWjG1yYo2PYAKSTcj/r8C7CxVJ2P/gH/xrZL65qJF5NBte4iO/vNU2Y5tPo+Z0FnpomzFvfAE+l62rNUUKGtgcuLs48YNdD7cMJZk7Ywdq7bqBvO7ZP+bB/r9AtK6bFiwTFWLt0m53Ha8462yvAl1+EfceulYLr7H/a/wzVTj7ChTwEuLIqAASYGnFB+ZilnkmKHvzzbFy6M0w2vi9elUXurlptBeHNuvA8G97O0bkHzw7vlz3hMtY162bNUSxr2xNJW+2xw9g+5cX+vUrhimleuGLaZKPaNk5wsXbpdruP1zx1tle0IArkyY4rTzX3P+19hspXlth9/+XyxV01PndRNpR2b26+N8un5i7D/ad5lRdjUXyGKk2d+6bOmsuiibrs5jNUedqe1Rvst3Pg1/aC5+bbpCQ9nkNpJid69+961UnJUtvduB6zvEBVj9qtWqfrIJcCx2sZdebv+956+p9kDQxubm7U1dUVpJSHzMsaEGBqhOvDhyuEjBMrhIR/1+alVQeDAcJ9dRjXHODYBiAEZLgsypaT81niBMF6XqUcY7WSioB05rfP8jMqK8biXJiDY9iQG6sWVe/w2AO40wtcxsuFLmzYHiCWq99s7te6ty+P+moui3pir3b/ZVF1nLnbHtfE4DhaIUpIyOhHFrYdrbZkwZ+fVnqWu/k2Kam59impmZzo3b/rVSflWx67y9wvsIiuNIlMS0jrUbtV63odZFfseM1TZ+H3rj477jOB+OrTcPdnV9z/rNVAe69QKaVUtArHjlU/dkyUWwUlnfmIZ9b7vnbPyMVydRMASghZek7LirG4Nl+hWp1Ryb5f69y+vOqpuSzqib3a/ZdF1XEWaXt831FSiPXvE0JJy6nlakTzbVKSHmf5m8uJvv27XnVSDT+xwll4HEplZU68HrVbtT7UQXbFjtfMdeZYSqz1Dfs/u67+J1kDLb5C1W19OPPRhxjT6B677ttXpb7E3pc482BOtjEn25gTAlgHtF4D3Vzlj4iIiIiIqAacUBERERERERXECRUREREREVFBnFAREREREREVxAkVERERERFRQZxQERERERERFXTn+fPnAMKl/0gvfdgnfYgxje6x6759VepL7H2JMw/mZBtzso05IYB1QMDLly8BAHcePnyIq6srrqWvmZcvX+LevXtNb0al+hBjGt1j1337qtSX2PsSZx7MyTbmZBtzQgDrgNZrgLf8ERERERERFcQJFRERERERUUGcUBERERERERXECRUREREREVFBnFAREREREREVxAkVERERERFRQZxQERERERERFcQJFRERERERUUGcUBERERERERXECRUREREREVFBnFAREREREREVxAkVERERERFRQZxQERERERERFcQJFRERERERUUGcUBERERERERXECRUREREREVFBnFAREREREREVxAkVERERERFRQZxQERERERERFcQJFRERERERUUGcUBERERERERXECRUREREREVFBnFAREREREREVxAkVERERERFRQZxQERERERERFcQJFRERERERUUGcUBERERERERXECRUREREREVFBA9u2lVIKhmE0vS1EREREREStcufhw4e4urrCvXv3mt4WSnj58mXn90kfYkyje+y6b1+V+hJ7X+LMgznZxpxsY04IYB3Qeg3wlj8iIiIiIqKCOKEiIiIiIiIqiBMqIiIiIiKigjihIiIiIiIiKogTKiIiIiIiooI4oSIiIiLqA9fEYDCAMQ2a3hKiTuGEioiIiKiQAFNjgMEgy5cJt+nNJSpdtmMgfRK/+nlz5wFS9PMDuKYBI/k9hgk3dTNcTDe/35ymf/+GO9m+jYiIiIjWDXH3kYQcJ/5qsYDteYDY+HucYFTodwSYGiOceRKOmmFyyOYSlW7HMZC0sPF/2rt75VS9Lo7jX2eeS5FT5HgFmyuQnCKVbToopbFLmS4NluzO1iozmcAVyBVwUgTq3AZPgRpf8CW+Jf/j7zOTJuJybZAZluy1sVnzS2U65N4L2fDyEfFTAter/28MfqczPS8tnpMTFRP67cXNA1qeBcD4Pj6QW0tmQzz7ttd5p4JKRERE5EDd/srFVhpgvQzTGxAvXbWJ/JvWzoG5kqFrAUPvdvlcSAMXz9Y/PESdnHBT1XVA/DSoiykTFUwWzsF4WjiF90NuJ31mr5TvOcZPGMXd+f+I7whaHhbL43BAd8e5rCl/IiIiIiJyWukTYQb4D8t3hEh5thnGTygmMbc3p4yf8mwBfB5Wi6DugMgA2ZjXhal87f6EyWIxVW/MIDIAZG/FzlRUUImIiIhcWJkGuEu9IS5ukLLYspEGLVotp75oxOJt6scqG/pFgiEHLz0xXbwiSIEyJXDd3X0o++awELtMg/n27jA9KhblkMBd3H62L0vS4efntNyApnaexVzq7VyGano7SlpXNvh3q/eXugyKoqGIOVV8wNw0TLFt86sDkLFHjfQlKqhERERELigNXBzPkmWm7tnwfQwZmfVw3M9iybmLpq8BfG7rRwv9WOUQ13Hq6VOzWAYyG+K4RxRVAM8BruNhof5cA1lm8ZzVgu6AHJ4DHM/WvWa+OSpW/hzQckIs/nx/ZdbDCYYMXQcvtHWsOhCh4y4VVeVwejyMT5QkJEmED4zftRriwcohjxYwEYOGeqfdPnI67I74ZG801UzOTf1dy/c4tsVbPQ3R3OzR/fjx8VHFcVzJz5Ln+XencHbXMMZNfvrYf3p+53QtY7+WcX6F9sk67ZN1O/dJ4ldAZaJi6+uYqFreoqgSn4b3FlVkqMCvkoZwRWQq4ydrser3mGop1K7cVnNs2LYpx0Ny2JTHSWIVUWWm/199TxGZle23799NdG5s1/xdbjY7Jv4XDsDm+LPj2Rwv8VeP/8ZPqPyG78+ixe+A7lCJiIiIXMh8mtJDf2W6U5vuIKrvroxf976z1Nz/0ea2Zzh6apOfLDX1A405HpSDiRg1NPofFGs1z/YtPQNg1lZ0a9/26vzXAuXohtSpbOljOnv8Nv0HHwDr1VNUgyAgCOppq96WxS8WlcNH6o9Y7f9qplX+RERERC6i5D0H8Glq+6gLgZBsOl3pa5eiJWVZUEzrhPe3I1Nlw1Sn9i86sCHH/XMwvdsd4/tCrLU8p70ye1071xfgoVdPBXyLHhj0j+vtuXafxcjdWZb53xm/G1MkNzw9htjMkmVQT5mN6DEmtBmdX1uOcDnkvl7tgiTebwQqqEREREQuouBtr4v8+m5Jd6+r+pI0uN/7l/fzOGUO3zCebkyRwP2jxYYeNgTjR4zi1buIslvJ6zgDDFFjc9Nl4re7feJun3j13cMx4dbwKYETkmGIiv2f+6YpfyIiIiI/SodtP6AvSoN6AQfjJxRVRTX9KyKz+80ncsocvms87W7MZFJRFUm9+MYpFvW4RrOlzE2P27PM9jsm/qwY23CHmJRgtghLMtlrqt+MCioRERGRi3CoFxnb0K9TvlL/+N605HOThV6SI5eg3lv5Tg4LOZ4yh28Yz6p2l3hSTJ9X1LxSnGy2uUfwB8SfP7eqaapgydCdFVMFe870m1NBJSIiInIRn4srhPerdz9K0qeQ+sf3pv6iryyaMPsl/jhZ6OAuPbRpV46nz+H0sValBJuerSVfM1vKfOMdoG+MX6YEnqV5qmDJ0K2f92aigni/ubZL1EMlIiIiciHt/oho7BBmIU5rjPE7dIDc2noNhbXV7+oiLMwywnuXt06HPIeHSUyXLoPIYEOL50L0cMev92ceQ7vfegw7GGPIQofW2OB3OuT5tMF/KcdT5nDe8WyUWTzHYnx/6ViYaHCWRRX+VfNie+d+K0mHTzzPFhrJ66ObPwYEz/W/7gbxWg/hvvHToIVnzfzcIrfMWvL8ZLQ2lS8Npg/PNobO2xNBsB6zKZ9FKqhERERELqZNf1Lwa/hUFwo2mxZSBv9h1PjreLs/Inq7J7QZNsvARPMpge3+iIQ6Vjj9Bd74CcXdc/3g3GP0RlSjV4L7EDu9IjV+wmhlOt4pczjreBp1iYuEm6dHwnlRa/B7I+KzLPn9r5pN1zT0djY3FTyHltWjmc1X5APuVguY/eN37yJMPiabHU8Mxu/xMOhvX+glm55fTdbyWdb6+PioXl5e8H1/a3JyWX///uX379/fncZZXcMYN/npY//p+Z3TtYz9Wsb5Fdon67RP1l3FPkkDWp7FRMXac6ikdhXfA9lq8TugHioREREREZEDqaASERERERE5kAoqERERERGRA2lRChERERH51I2pqvi7sxD5z9AdKhERERERkQOpoBIRERERETlQy1pbVVWF67rfnYuIiIiIiMh/yv/+/PnDy8uL1tL/Ya7h+QbXMMZNfvrYf3p+53QtY7+WcX6F9sk67ZN12icC+h7I8nfg/309GIBFxi+6AAAAAElFTkSuQmCC)"
      ],
      "metadata": {
        "id": "9o1qGBJ14aJl"
      }
    },
    {
      "cell_type": "code",
      "source": [
        "#Approch1\n",
        "class Net(nn.Module):\n",
        "    def __init__(self):\n",
        "        super(Net, self).__init__()\n",
        "        self.conv1 = nn.Conv2d(1, 16, 3, padding=0)\n",
        "        self.conv2 = nn.Conv2d(16, 16, 3, padding=0)\n",
        "        self.conv2_bn = nn.BatchNorm2d(16)\n",
        "        self.pool1 = nn.MaxPool2d(2, 2)\n",
        "        self.do1 = nn.Dropout(0.2)\n",
        "        self.conv3 = nn.Conv2d(16, 32, 3)\n",
        "        self.conv4 = nn.Conv2d(32, 32, 3)\n",
        "        self.conv5 = nn.Conv2d(32, 64, 3)\n",
        "        self.conv3_bn = nn.BatchNorm2d(64)\n",
        "        self.pool2 = nn.MaxPool2d(2, 2)\n",
        "        self.do2 = nn.Dropout(0.2)\n",
        "        self.conv6 = nn.Conv2d(64, 64, 3)\n",
        "        self.fc1 = nn.Linear(64, 10)\n",
        "    def forward(self, x):\n",
        "        x = self.pool1(self.conv2_bn(F.relu(self.conv2(F.relu(self.conv1(x))))))\n",
        "        x = self.do1(x)\n",
        "        x = self.pool2(self.conv3_bn(F.relu(self.conv5(F.relu(self.conv4(F.relu(self.conv3(x))))))))\n",
        "        x = self.do2(x)\n",
        "        x = F.relu(self.conv6(x))\n",
        "        x = x.view(-1, 64)\n",
        "        x = F.relu(self.fc1(x))\n",
        "        return F.log_softmax(x)"
      ],
      "metadata": {
        "id": "LtD0xURodTNi"
      },
      "execution_count": 31,
      "outputs": []
    },
    {
      "cell_type": "code",
      "metadata": {
        "id": "xdydjYTZFyi3",
        "colab": {
          "base_uri": "https://localhost:8080/"
        },
        "outputId": "e2b058d3-69c3-4aae-e18c-fd17737ff021"
      },
      "source": [
        "!pip install torchsummary\n",
        "from torchsummary import summary\n",
        "use_cuda = torch.cuda.is_available()\n",
        "device = torch.device(\"cuda\" if use_cuda else \"cpu\")\n",
        "model = Net().to(device)\n",
        "summary(model, input_size=(1, 28, 28))"
      ],
      "execution_count": 32,
      "outputs": [
        {
          "output_type": "stream",
          "name": "stdout",
          "text": [
            "Looking in indexes: https://pypi.org/simple, https://us-python.pkg.dev/colab-wheels/public/simple/\n",
            "Requirement already satisfied: torchsummary in /usr/local/lib/python3.10/dist-packages (1.5.1)\n",
            "----------------------------------------------------------------\n",
            "        Layer (type)               Output Shape         Param #\n",
            "================================================================\n",
            "            Conv2d-1           [-1, 16, 26, 26]             160\n",
            "            Conv2d-2           [-1, 16, 24, 24]           2,320\n",
            "       BatchNorm2d-3           [-1, 16, 24, 24]              32\n",
            "         MaxPool2d-4           [-1, 16, 12, 12]               0\n",
            "           Dropout-5           [-1, 16, 12, 12]               0\n",
            "            Conv2d-6           [-1, 32, 10, 10]           4,640\n",
            "            Conv2d-7             [-1, 32, 8, 8]           9,248\n",
            "            Conv2d-8             [-1, 64, 6, 6]          18,496\n",
            "       BatchNorm2d-9             [-1, 64, 6, 6]             128\n",
            "        MaxPool2d-10             [-1, 64, 3, 3]               0\n",
            "          Dropout-11             [-1, 64, 3, 3]               0\n",
            "           Conv2d-12             [-1, 64, 1, 1]          36,928\n",
            "           Linear-13                   [-1, 10]             650\n",
            "================================================================\n",
            "Total params: 72,602\n",
            "Trainable params: 72,602\n",
            "Non-trainable params: 0\n",
            "----------------------------------------------------------------\n",
            "Input size (MB): 0.00\n",
            "Forward/backward pass size (MB): 0.34\n",
            "Params size (MB): 0.28\n",
            "Estimated Total Size (MB): 0.62\n",
            "----------------------------------------------------------------\n"
          ]
        },
        {
          "output_type": "stream",
          "name": "stderr",
          "text": [
            "<ipython-input-31-fe55dd36df11>:26: UserWarning: Implicit dimension choice for log_softmax has been deprecated. Change the call to include dim=X as an argument.\n",
            "  return F.log_softmax(x)\n"
          ]
        }
      ]
    },
    {
      "cell_type": "code",
      "metadata": {
        "id": "DqTWLaM5GHgH"
      },
      "source": [
        "\n",
        "\n",
        "torch.manual_seed(1)\n",
        "batch_size = 128\n",
        "\n",
        "kwargs = {'num_workers': 1, 'pin_memory': True} if use_cuda else {}\n",
        "train_loader = torch.utils.data.DataLoader(\n",
        "    datasets.MNIST('../data', train=True, download=True,\n",
        "                    transform=transforms.Compose([\n",
        "                        transforms.ToTensor(),\n",
        "                        transforms.Normalize((0.1307,), (0.3081,))\n",
        "                    ])),\n",
        "    batch_size=batch_size, shuffle=True, **kwargs)\n",
        "test_loader = torch.utils.data.DataLoader(\n",
        "    datasets.MNIST('../data', train=False, transform=transforms.Compose([\n",
        "                        transforms.ToTensor(),\n",
        "                        transforms.Normalize((0.1307,), (0.3081,))\n",
        "                    ])),\n",
        "    batch_size=batch_size, shuffle=True, **kwargs)\n"
      ],
      "execution_count": 33,
      "outputs": []
    },
    {
      "cell_type": "code",
      "metadata": {
        "id": "8fDefDhaFlwH"
      },
      "source": [
        "from tqdm import tqdm\n",
        "def train(model, device, train_loader, optimizer, epoch):\n",
        "    model.train()\n",
        "    pbar = tqdm(train_loader)\n",
        "    for batch_idx, (data, target) in enumerate(pbar):\n",
        "        data, target = data.to(device), target.to(device)\n",
        "        optimizer.zero_grad()\n",
        "        output = model(data)\n",
        "        loss = F.nll_loss(output, target)\n",
        "        loss.backward()\n",
        "        optimizer.step()\n",
        "        pbar.set_description(desc= f'loss={loss.item()} batch_id={batch_idx}')\n",
        "\n",
        "\n",
        "def test(model, device, test_loader):\n",
        "    model.eval()\n",
        "    test_loss = 0\n",
        "    correct = 0\n",
        "    with torch.no_grad():\n",
        "        for data, target in test_loader:\n",
        "            data, target = data.to(device), target.to(device)\n",
        "            output = model(data)\n",
        "            test_loss += F.nll_loss(output, target, reduction='sum').item()  # sum up batch loss\n",
        "            pred = output.argmax(dim=1, keepdim=True)  # get the index of the max log-probability\n",
        "            correct += pred.eq(target.view_as(pred)).sum().item()\n",
        "\n",
        "    test_loss /= len(test_loader.dataset)\n",
        "\n",
        "    print('\\nTest set: Average loss: {:.4f}, Accuracy: {}/{} ({:.0f}%)\\n'.format(\n",
        "        test_loss, correct, len(test_loader.dataset),\n",
        "        100. * correct / len(test_loader.dataset)))"
      ],
      "execution_count": 34,
      "outputs": []
    },
    {
      "cell_type": "code",
      "metadata": {
        "id": "MMWbLWO6FuHb",
        "colab": {
          "base_uri": "https://localhost:8080/"
        },
        "outputId": "51c4522a-8f1d-4ef2-ff8a-6cad11ec148e"
      },
      "source": [
        "\n",
        "model = Net().to(device)\n",
        "optimizer = optim.SGD(model.parameters(), lr=0.01, momentum=0.9)\n",
        "\n",
        "for epoch in range(1, 10):\n",
        "    train(model, device, train_loader, optimizer, epoch)\n",
        "    test(model, device, test_loader)"
      ],
      "execution_count": 35,
      "outputs": [
        {
          "output_type": "stream",
          "name": "stderr",
          "text": [
            "  0%|          | 0/469 [00:00<?, ?it/s]<ipython-input-31-fe55dd36df11>:26: UserWarning: Implicit dimension choice for log_softmax has been deprecated. Change the call to include dim=X as an argument.\n",
            "  return F.log_softmax(x)\n",
            "loss=0.04505439102649689 batch_id=468: 100%|██████████| 469/469 [00:23<00:00, 20.35it/s]\n"
          ]
        },
        {
          "output_type": "stream",
          "name": "stdout",
          "text": [
            "\n",
            "Test set: Average loss: 0.0554, Accuracy: 9836/10000 (98%)\n",
            "\n"
          ]
        },
        {
          "output_type": "stream",
          "name": "stderr",
          "text": [
            "loss=0.06382658332586288 batch_id=468: 100%|██████████| 469/469 [00:18<00:00, 25.08it/s]\n"
          ]
        },
        {
          "output_type": "stream",
          "name": "stdout",
          "text": [
            "\n",
            "Test set: Average loss: 0.0348, Accuracy: 9894/10000 (99%)\n",
            "\n"
          ]
        },
        {
          "output_type": "stream",
          "name": "stderr",
          "text": [
            "loss=0.032026711851358414 batch_id=468: 100%|██████████| 469/469 [00:19<00:00, 24.37it/s]\n"
          ]
        },
        {
          "output_type": "stream",
          "name": "stdout",
          "text": [
            "\n",
            "Test set: Average loss: 0.0234, Accuracy: 9928/10000 (99%)\n",
            "\n"
          ]
        },
        {
          "output_type": "stream",
          "name": "stderr",
          "text": [
            "loss=0.03446733206510544 batch_id=468: 100%|██████████| 469/469 [00:18<00:00, 25.21it/s]\n"
          ]
        },
        {
          "output_type": "stream",
          "name": "stdout",
          "text": [
            "\n",
            "Test set: Average loss: 0.0239, Accuracy: 9931/10000 (99%)\n",
            "\n"
          ]
        },
        {
          "output_type": "stream",
          "name": "stderr",
          "text": [
            "loss=0.03972868248820305 batch_id=468: 100%|██████████| 469/469 [00:18<00:00, 25.68it/s]\n"
          ]
        },
        {
          "output_type": "stream",
          "name": "stdout",
          "text": [
            "\n",
            "Test set: Average loss: 0.0243, Accuracy: 9928/10000 (99%)\n",
            "\n"
          ]
        },
        {
          "output_type": "stream",
          "name": "stderr",
          "text": [
            "loss=0.010217003524303436 batch_id=468: 100%|██████████| 469/469 [00:19<00:00, 24.42it/s]\n"
          ]
        },
        {
          "output_type": "stream",
          "name": "stdout",
          "text": [
            "\n",
            "Test set: Average loss: 0.0207, Accuracy: 9933/10000 (99%)\n",
            "\n"
          ]
        },
        {
          "output_type": "stream",
          "name": "stderr",
          "text": [
            "loss=0.007230114191770554 batch_id=468: 100%|██████████| 469/469 [00:18<00:00, 25.24it/s]\n"
          ]
        },
        {
          "output_type": "stream",
          "name": "stdout",
          "text": [
            "\n",
            "Test set: Average loss: 0.0196, Accuracy: 9937/10000 (99%)\n",
            "\n"
          ]
        },
        {
          "output_type": "stream",
          "name": "stderr",
          "text": [
            "loss=0.009601644240319729 batch_id=468: 100%|██████████| 469/469 [00:18<00:00, 25.59it/s]\n"
          ]
        },
        {
          "output_type": "stream",
          "name": "stdout",
          "text": [
            "\n",
            "Test set: Average loss: 0.0179, Accuracy: 9937/10000 (99%)\n",
            "\n"
          ]
        },
        {
          "output_type": "stream",
          "name": "stderr",
          "text": [
            "loss=0.007020637858659029 batch_id=468: 100%|██████████| 469/469 [00:19<00:00, 24.33it/s]\n"
          ]
        },
        {
          "output_type": "stream",
          "name": "stdout",
          "text": [
            "\n",
            "Test set: Average loss: 0.0157, Accuracy: 9950/10000 (100%)\n",
            "\n"
          ]
        }
      ]
    }
  ]
}